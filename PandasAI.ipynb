{
 "cells": [
  {
   "cell_type": "markdown",
   "id": "144dbb74",
   "metadata": {},
   "source": [
    "**Pandas AI**🐼"
   ]
  },
  {
   "cell_type": "markdown",
   "id": "944b7b47",
   "metadata": {},
   "source": [
    "**O que é PandasAI ?**\n",
    "\n",
    "É uma biblioteca do Pandas que combina seu uso com GPT-3 da OpenAI. Sendo possivel fazer analises de dados atraves de linguagem natural, atraves de perguntas. Sendo assim, ficando mais simples a extração de dados, facilitando para iniciantes e até para quem tem experiencia.\n",
    "\n",
    "Isso ficará mais claro no segundo tópico '2-Pandas AI'."
   ]
  },
  {
   "cell_type": "markdown",
   "id": "2f01044f",
   "metadata": {},
   "source": [
    "**1-Pandas**"
   ]
  },
  {
   "cell_type": "markdown",
   "id": "73aa8d55",
   "metadata": {},
   "source": [
    "Primeiramente será extraido uma informação para saber os dois apps mais utilizados em São Paulo, de maneira comum do Pandas, ou seja, sem uso do Pandas AI. \n",
    "\n",
    "Isso será feito antes para vermos a facilidade quando formos utilizar a nova biblioteca."
   ]
  },
  {
   "cell_type": "code",
   "execution_count": 66,
   "id": "2009afcb",
   "metadata": {},
   "outputs": [],
   "source": [
    "import pandas as pd"
   ]
  },
  {
   "cell_type": "code",
   "execution_count": 56,
   "id": "20aa9317",
   "metadata": {},
   "outputs": [
    {
     "data": {
      "text/html": [
       "<div>\n",
       "<style scoped>\n",
       "    .dataframe tbody tr th:only-of-type {\n",
       "        vertical-align: middle;\n",
       "    }\n",
       "\n",
       "    .dataframe tbody tr th {\n",
       "        vertical-align: top;\n",
       "    }\n",
       "\n",
       "    .dataframe thead th {\n",
       "        text-align: right;\n",
       "    }\n",
       "</style>\n",
       "<table border=\"1\" class=\"dataframe\">\n",
       "  <thead>\n",
       "    <tr style=\"text-align: right;\">\n",
       "      <th></th>\n",
       "      <th>Apps Mais Usados em SP</th>\n",
       "      <th>Qtd de Usuarios em SP</th>\n",
       "      <th>Hora Gasta/Usuario/Dia</th>\n",
       "    </tr>\n",
       "  </thead>\n",
       "  <tbody>\n",
       "    <tr>\n",
       "      <th>0</th>\n",
       "      <td>Linkedin</td>\n",
       "      <td>35000000</td>\n",
       "      <td>2</td>\n",
       "    </tr>\n",
       "    <tr>\n",
       "      <th>1</th>\n",
       "      <td>Instagram</td>\n",
       "      <td>50000000</td>\n",
       "      <td>4</td>\n",
       "    </tr>\n",
       "    <tr>\n",
       "      <th>2</th>\n",
       "      <td>Youtube</td>\n",
       "      <td>1000000</td>\n",
       "      <td>3</td>\n",
       "    </tr>\n",
       "    <tr>\n",
       "      <th>3</th>\n",
       "      <td>Telegram</td>\n",
       "      <td>63000</td>\n",
       "      <td>1</td>\n",
       "    </tr>\n",
       "  </tbody>\n",
       "</table>\n",
       "</div>"
      ],
      "text/plain": [
       "  Apps Mais Usados em SP  Qtd de Usuarios em SP  Hora Gasta/Usuario/Dia\n",
       "0               Linkedin               35000000                       2\n",
       "1              Instagram               50000000                       4\n",
       "2                Youtube                1000000                       3\n",
       "3               Telegram                  63000                       1"
      ]
     },
     "execution_count": 56,
     "metadata": {},
     "output_type": "execute_result"
    }
   ],
   "source": [
    "df = pd.DataFrame({\n",
    "    \"Apps Mais Usados em SP\": ['Linkedin', 'Instagram', 'Youtube', 'Telegram'],\n",
    "    \"Qtd de Usuarios em SP\": [35000000, 50000000, 1000000, 63000],\n",
    "    \"Hora Gasta/Usuario/Dia\": [2, 4, 3, 1]\n",
    "})\n",
    "\n",
    "df"
   ]
  },
  {
   "cell_type": "markdown",
   "id": "a3fa5524",
   "metadata": {},
   "source": [
    "**Para saber os dois apps mais utilizados em SP, com o Pandas 'comum', podemos obte-lo através do código abaixo.**\n",
    "\n"
   ]
  },
  {
   "cell_type": "code",
   "execution_count": 67,
   "id": "97dc12aa",
   "metadata": {},
   "outputs": [
    {
     "name": "stdout",
     "output_type": "stream",
     "text": [
      "Os apps mais usados em São Paulo são: Instagram, Youtube\n"
     ]
    }
   ],
   "source": [
    "app_mais_usado = df.nlargest(2, 'Hora Gasta/Usuario/Dia')['Apps Mais Usados em SP'].tolist()\n",
    "print(f\"Os apps mais usados em São Paulo são: {', '.join(app_mais_usado)}\")"
   ]
  },
  {
   "cell_type": "markdown",
   "id": "1958e950",
   "metadata": {},
   "source": [
    "**2-Pandas AI**"
   ]
  },
  {
   "cell_type": "markdown",
   "id": "ecebec8e",
   "metadata": {},
   "source": [
    "Abaixo estão as bibliotecas que serão utilizadas.\n",
    "\n",
    "Instale o PandasAI, caso não o tenha, usando: pip install pandasai\n",
    "\n",
    "**IMPORTANTE**: Para utilizar o Pandas AI, você precisa ter sua API KEY. \n",
    "\n",
    "Acesse https://platform.openai.com/account/api-keys e verifique sua API KEY.\n",
    "\n",
    "Ela será utilizada nessa parte do código       \"llm = OpenAI(api_token=\"AQUI VOCÊ COLOCA SUA API KEY\")."
   ]
  },
  {
   "cell_type": "code",
   "execution_count": 77,
   "id": "1a760179",
   "metadata": {},
   "outputs": [],
   "source": [
    "import pandas as pd\n",
    "from pandasai import PandasAI\n",
    "from pandasai.llm.openai import OpenAI\n",
    "llm = OpenAI(api_token=\"AQUI VOCÊ COLOCA SUA API KEY\")"
   ]
  },
  {
   "cell_type": "code",
   "execution_count": 85,
   "id": "00f561b4",
   "metadata": {},
   "outputs": [],
   "source": [
    "import matplotlib.pyplot as plt\n",
    "import seaborn as sns"
   ]
  },
  {
   "cell_type": "code",
   "execution_count": 87,
   "id": "38137309",
   "metadata": {},
   "outputs": [
    {
     "data": {
      "text/html": [
       "<div>\n",
       "<style scoped>\n",
       "    .dataframe tbody tr th:only-of-type {\n",
       "        vertical-align: middle;\n",
       "    }\n",
       "\n",
       "    .dataframe tbody tr th {\n",
       "        vertical-align: top;\n",
       "    }\n",
       "\n",
       "    .dataframe thead th {\n",
       "        text-align: right;\n",
       "    }\n",
       "</style>\n",
       "<table border=\"1\" class=\"dataframe\">\n",
       "  <thead>\n",
       "    <tr style=\"text-align: right;\">\n",
       "      <th></th>\n",
       "      <th>Apps Mais Usados em SP</th>\n",
       "      <th>Qtd de Usuarios</th>\n",
       "      <th>Hora Gasta/Usuario/Dia</th>\n",
       "    </tr>\n",
       "  </thead>\n",
       "  <tbody>\n",
       "    <tr>\n",
       "      <th>0</th>\n",
       "      <td>Linkedin</td>\n",
       "      <td>35000000</td>\n",
       "      <td>2</td>\n",
       "    </tr>\n",
       "    <tr>\n",
       "      <th>1</th>\n",
       "      <td>Instagram</td>\n",
       "      <td>50000000</td>\n",
       "      <td>4</td>\n",
       "    </tr>\n",
       "    <tr>\n",
       "      <th>2</th>\n",
       "      <td>Youtube</td>\n",
       "      <td>2500000</td>\n",
       "      <td>3</td>\n",
       "    </tr>\n",
       "    <tr>\n",
       "      <th>3</th>\n",
       "      <td>Telegram</td>\n",
       "      <td>4000000</td>\n",
       "      <td>1</td>\n",
       "    </tr>\n",
       "  </tbody>\n",
       "</table>\n",
       "</div>"
      ],
      "text/plain": [
       "  Apps Mais Usados em SP  Qtd de Usuarios  Hora Gasta/Usuario/Dia\n",
       "0               Linkedin         35000000                       2\n",
       "1              Instagram         50000000                       4\n",
       "2                Youtube          2500000                       3\n",
       "3               Telegram          4000000                       1"
      ]
     },
     "execution_count": 87,
     "metadata": {},
     "output_type": "execute_result"
    }
   ],
   "source": [
    "df = pd.DataFrame({\n",
    "    \"Apps Mais Usados em SP\": ['Linkedin', 'Instagram', 'Youtube', 'Telegram'],\n",
    "    \"Qtd de Usuarios\": [35000000, 50000000, 2500000, 4000000],\n",
    "    \"Hora Gasta/Usuario/Dia\": [2, 4, 3, 1]\n",
    "})\n",
    "\n",
    "df"
   ]
  },
  {
   "cell_type": "markdown",
   "id": "feaab3e0",
   "metadata": {},
   "source": [
    "Sobre a variavel abaixo 'pandas_ai', a classe PandasAI é responsável por fornecer uma interface para executar consultas e análises de dados usando o GPT-3 da OpenAI em conjunto com a biblioteca Pandas. Ao criar uma instância dessa classe, você pode interagir com o GPT-3 usando o 'pandas_ai' como uma interface intermediária.\n",
    "\n",
    "O parâmetro 'llm' é um objeto que representa o modelo de linguagem, no caso, o GPT-3. O parâmetro 'conversational' é usado para definir o modo de funcionamento do GPT-3. Quando definido como 'False', indica que as consultas não são consideradas conversacionais, ou seja, cada consulta é tratada independentemente, sem levar em conta o histórico de interações anteriores."
   ]
  },
  {
   "cell_type": "code",
   "execution_count": 80,
   "id": "ceb86a08",
   "metadata": {},
   "outputs": [],
   "source": [
    "pandas_ai = PandasAI(llm, conversational=False)"
   ]
  },
  {
   "cell_type": "markdown",
   "id": "d28c5c3f",
   "metadata": {},
   "source": [
    "**Quais os dois apps mais utilizados em SP?**"
   ]
  },
  {
   "cell_type": "code",
   "execution_count": 81,
   "id": "96b8e6fd",
   "metadata": {},
   "outputs": [
    {
     "data": {
      "text/plain": [
       "\"['Instagram', 'Linkedin']\\n\""
      ]
     },
     "execution_count": 81,
     "metadata": {},
     "output_type": "execute_result"
    }
   ],
   "source": [
    "pandas_ai.run(df, prompt = 'Quais são os dois apps mais usados em SP?')"
   ]
  },
  {
   "cell_type": "markdown",
   "id": "56e80379",
   "metadata": {},
   "source": [
    "**Qual app tem mais horas de uso por dia e quantas horas são?**"
   ]
  },
  {
   "cell_type": "code",
   "execution_count": 82,
   "id": "1b03613c",
   "metadata": {},
   "outputs": [
    {
     "data": {
      "text/plain": [
       "'O app com mais horas de uso por dia é Instagram com 4 horas.\\n'"
      ]
     },
     "execution_count": 82,
     "metadata": {},
     "output_type": "execute_result"
    }
   ],
   "source": [
    "pandas_ai.run(df, prompt = 'Qual app tem mais horas de uso por dia e qual é o tempo?')"
   ]
  },
  {
   "cell_type": "markdown",
   "id": "cdd837ad",
   "metadata": {},
   "source": [
    "**Histograma de apps mais usados em SP por quantidade de usuarios**"
   ]
  },
  {
   "cell_type": "code",
   "execution_count": 88,
   "id": "f21d2c0b",
   "metadata": {},
   "outputs": [
    {
     "data": {
      "image/png": "[encoded data removed]",
      "text/plain": [
       "<Figure size 640x480 with 1 Axes>"
      ]
     },
     "metadata": {},
     "output_type": "display_data"
    },
    {
     "data": {
      "text/plain": [
       "''"
      ]
     },
     "execution_count": 88,
     "metadata": {},
     "output_type": "execute_result"
    }
   ],
   "source": [
    "pandas_ai.run(df, \n",
    "             \"Plot o histograma colorido com Apps Mais Usados em SP por suas respctivas Qtd de Usuarios em SP\",\n",
    "             )"
   ]
  }
 ],
 "metadata": {
  "kernelspec": {
   "display_name": "Python 3 (ipykernel)",
   "language": "python",
   "name": "python3"
  },
  "language_info": {
   "codemirror_mode": {
    "name": "ipython",
    "version": 3
   },
   "file_extension": ".py",
   "mimetype": "text/x-python",
   "name": "python",
   "nbconvert_exporter": "python",
   "pygments_lexer": "ipython3",
   "version": "3.10.9"
  }
 },
 "nbformat": 4,
 "nbformat_minor": 5
}
